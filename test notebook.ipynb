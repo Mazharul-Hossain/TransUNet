{
 "cells": [
  {
   "cell_type": "code",
   "execution_count": 2,
   "metadata": {},
   "outputs": [],
   "source": [
    "import numpy as np\n",
    "from scipy import ndimage"
   ]
  },
  {
   "cell_type": "code",
   "execution_count": 33,
   "metadata": {},
   "outputs": [],
   "source": [
    "def random_rotation90(image, label):\n",
    "    for k in range(4):\n",
    "\n",
    "        image = np.rot90(image, k, axes=(0,1))\n",
    "        label = np.rot90(label, k)\n",
    "\n",
    "        print(image.shape, label.shape)\n",
    "\n",
    "    return image, label\n",
    "\n",
    "def random_lip(image, label):\n",
    "    for axis  in range(2):\n",
    "        # axis = np.random.randint(0, 2)\n",
    "\n",
    "        image = np.flip(image, axis=axis).copy()\n",
    "        label = np.flip(label, axis=axis).copy()\n",
    "\n",
    "        print(image.shape, label.shape)\n",
    "    \n",
    "    return image, label"
   ]
  },
  {
   "cell_type": "code",
   "execution_count": 4,
   "metadata": {},
   "outputs": [],
   "source": [
    "def random_rotate(image, label):\n",
    "    angle = np.random.randint(-20, 20)\n",
    "    image = ndimage.rotate(image, angle, order=0, reshape=False)\n",
    "    label = ndimage.rotate(label, angle, order=0, reshape=False)\n",
    "    return image, label"
   ]
  },
  {
   "cell_type": "code",
   "execution_count": null,
   "metadata": {},
   "outputs": [
    {
     "data": {
      "text/plain": [
       "(3, 96, 96)"
      ]
     },
     "metadata": {},
     "output_type": "display_data"
    }
   ],
   "source": [
    "image = np.random.randint(256, size=(96, 96, 3))\n",
    "image = np.rollaxis(image, -1)\n",
    "image.shape"
   ]
  },
  {
   "cell_type": "code",
   "execution_count": 34,
   "metadata": {},
   "outputs": [
    {
     "data": {
      "text/plain": [
       "((3, 96, 96), (96, 96))"
      ]
     },
     "execution_count": 34,
     "metadata": {},
     "output_type": "execute_result"
    }
   ],
   "source": [
    "image = np.random.randint(256, size=(3, 96, 96))\n",
    "label = np.random.randint(1, size=(96, 96))\n",
    "\n",
    "image.shape, label.shape"
   ]
  },
  {
   "cell_type": "code",
   "execution_count": 35,
   "metadata": {},
   "outputs": [
    {
     "name": "stdout",
     "output_type": "stream",
     "text": [
      "(3, 96, 96) (96, 96)\n",
      "(96, 3, 96) (96, 96)\n",
      "(96, 3, 96) (96, 96)\n",
      "(3, 96, 96) (96, 96)\n"
     ]
    },
    {
     "data": {
      "text/plain": [
       "((3, 96, 96), (96, 96))"
      ]
     },
     "execution_count": 35,
     "metadata": {},
     "output_type": "execute_result"
    }
   ],
   "source": [
    "image, label = random_rotation90(image, label)\n",
    "\n",
    "image.shape, label.shape"
   ]
  },
  {
   "cell_type": "code",
   "execution_count": 32,
   "metadata": {},
   "outputs": [
    {
     "name": "stdout",
     "output_type": "stream",
     "text": [
      "(3, 96, 96) (96, 96)\n",
      "(3, 96, 96) (96, 96)\n"
     ]
    },
    {
     "data": {
      "text/plain": [
       "((3, 96, 96), (96, 96))"
      ]
     },
     "execution_count": 32,
     "metadata": {},
     "output_type": "execute_result"
    }
   ],
   "source": [
    "image, label = random_lip(image, label)\n",
    "image.shape, label.shape"
   ]
  },
  {
   "cell_type": "code",
   "execution_count": 7,
   "metadata": {},
   "outputs": [
    {
     "data": {
      "text/plain": [
       "((3, 96, 96), (96, 96))"
      ]
     },
     "execution_count": 7,
     "metadata": {},
     "output_type": "execute_result"
    }
   ],
   "source": [
    "image, label = random_rotate(image, label)\n",
    "\n",
    "image.shape, label.shape"
   ]
  }
 ],
 "metadata": {
  "kernelspec": {
   "display_name": "torchEnv",
   "language": "python",
   "name": "python3"
  },
  "language_info": {
   "codemirror_mode": {
    "name": "ipython",
    "version": 3
   },
   "file_extension": ".py",
   "mimetype": "text/x-python",
   "name": "python",
   "nbconvert_exporter": "python",
   "pygments_lexer": "ipython3",
   "version": "3.11.5"
  }
 },
 "nbformat": 4,
 "nbformat_minor": 2
}
